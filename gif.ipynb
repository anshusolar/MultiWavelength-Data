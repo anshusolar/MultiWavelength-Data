{
 "cells": [
  {
   "cell_type": "code",
   "execution_count": 2,
   "id": "ccd26d5c-2fae-4310-adf9-5f0cc173c624",
   "metadata": {},
   "outputs": [
    {
     "name": "stdout",
     "output_type": "stream",
     "text": [
      "GIF created successfully at: animation.gif\n"
     ]
    }
   ],
   "source": [
    "import glob\n",
    "import contextlib\n",
    "from PIL import Image\n",
    "\n",
    "# Filepaths\n",
    "fp_in = r\"*.png\"  \n",
    "fp_out = r\"animation.gif\"\n",
    "\n",
    "# Get list of PNG files\n",
    "png_files = sorted(glob.glob(fp_in))\n",
    "#print(f\"Found PNG files: {png_files}\")\n",
    "\n",
    "# Use exit stack to automatically close opened images\n",
    "with contextlib.ExitStack() as stack:\n",
    "    # Lazily load images\n",
    "    imgs = (stack.enter_context(Image.open(f))\n",
    "            for f in png_files)\n",
    "    \n",
    "    # Extract first image from iterator\n",
    "    try:\n",
    "        img = next(imgs)\n",
    "        \n",
    "        # Save as GIF\n",
    "        img.save(\n",
    "            fp=fp_out,\n",
    "            format='GIF',\n",
    "            append_images=imgs,\n",
    "            save_all=True,\n",
    "            duration=200,  # Duration for each frame in milliseconds\n",
    "            loop=0  # 0 means loop forever\n",
    "        )\n",
    "        print(f\"GIF created successfully at: {fp_out}\")\n",
    "    except StopIteration:\n",
    "        print(\"Error: No PNG images found in the directory. Please check:\")\n",
    "        print(r\"1. Directory path: D:\\USO\\Nadiya\\demo\")  # Use raw string for path\n",
    "        print(\"2. Ensure PNG files exist and are named correctly\")\n",
    "        print(\"3. Verify file extensions are .png\")"
   ]
  },
  {
   "cell_type": "code",
   "execution_count": 1,
   "id": "7ed73775-6bc6-482a-b2c9-a9de6787ce83",
   "metadata": {},
   "outputs": [
    {
     "data": {
      "text/plain": [
       "'D:\\\\USO\\\\Nadiya\\\\demo'"
      ]
     },
     "execution_count": 1,
     "metadata": {},
     "output_type": "execute_result"
    }
   ],
   "source": [
    "pwd"
   ]
  },
  {
   "cell_type": "code",
   "execution_count": null,
   "id": "0338f894-35f4-4a6e-b3aa-0e0bef923d5d",
   "metadata": {},
   "outputs": [],
   "source": []
  }
 ],
 "metadata": {
  "kernelspec": {
   "display_name": "Python 3 (ipykernel)",
   "language": "python",
   "name": "python3"
  },
  "language_info": {
   "codemirror_mode": {
    "name": "ipython",
    "version": 3
   },
   "file_extension": ".py",
   "mimetype": "text/x-python",
   "name": "python",
   "nbconvert_exporter": "python",
   "pygments_lexer": "ipython3",
   "version": "3.12.3"
  }
 },
 "nbformat": 4,
 "nbformat_minor": 5
}
