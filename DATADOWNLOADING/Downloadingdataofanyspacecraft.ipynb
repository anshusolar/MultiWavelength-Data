{
 "cells": [
  {
   "cell_type": "code",
   "execution_count": 1,
   "id": "a8f45bda-13ae-4af3-ad0e-4a1570126bcf",
   "metadata": {},
   "outputs": [],
   "source": [
    "import pandas as pd\n",
    "import os\n",
    "import requests"
   ]
  },
  {
   "cell_type": "code",
   "execution_count": 3,
   "id": "cc6e440d-f55e-4630-873b-f26afef74f11",
   "metadata": {},
   "outputs": [],
   "source": [
    "df = pd.read_csv(\"FINAL_SUCCESSIVE_TYPEIIS - Sheet2.csv\")"
   ]
  },
  {
   "cell_type": "code",
   "execution_count": 8,
   "id": "d7710b37-41d8-4dab-956d-a564eba3a23a",
   "metadata": {},
   "outputs": [],
   "source": [
    "df = df.dropna(subset=['CME DATE'])  # Drop rows where 'CME DATE' is NaN\n",
    "df['CME DATE'] = df['CME DATE'].astype(str).str.strip()  # Convert to string and remove whitespace\n",
    "\n",
    "# Now convert to required formats\n",
    "dates_full = df['CME DATE'].tolist()\n",
    "dates_short = [d[2:] for d in dates_full] "
   ]
  },
  {
   "cell_type": "code",
   "execution_count": null,
   "id": "df1e99fb-3049-4a58-9263-3f59e5853abd",
   "metadata": {},
   "outputs": [
    {
     "name": "stdout",
     "output_type": "stream",
     "text": [
      "Failed to download data for 1997/11/03: 404\n",
      "Failed to download data for 1997/11/03: 404\n",
      "Failed to download data for 1997/11/03: 404\n",
      "Failed to download data for 1999/06/23: 404\n",
      "Failed to download data for 1999/06/23: 404\n",
      "Failed to download data for 1999/06/23: 404\n",
      "Failed to download data for 1999/08/02: 404\n",
      "Failed to download data for 2000/02/17: 404\n",
      "Failed to download data for 2000/03/18: 404\n",
      "Failed to download data for 2000/03/18: 404\n",
      "Failed to download data for 2000/03/18: 404\n",
      "Failed to download data for 2000/09/01: 404\n",
      "Failed to download data for 2000/09/12: 404\n",
      "Failed to download data for 2000/09/19: 404\n",
      "Failed to download data for 2001/03/27: 404\n",
      "Failed to download data for 2001/04/02: 404\n",
      "Failed to download data for 2001/05/16: 404\n",
      "Failed to download data for 2001/06/15: 404\n",
      "Failed to download data for 2001/08/21: 404\n",
      "Failed to download data for 2001/08/21: 404\n",
      "Failed to download data for 2001/09/17: 404\n",
      "Failed to download data for 2001/09/19: 404\n",
      "Failed to download data for 2001/10/03: 404\n",
      "Failed to download data for 2001/11/17: 404\n",
      "Failed to download data for 2001/11/28: 404\n",
      "Failed to download data for 2001/12/14: 404\n",
      "Failed to download data for 2002/02/20: 404\n",
      "Failed to download data for 2002/07/20: 404\n",
      "Failed to download data for 2002/07/20: 404\n",
      "Failed to download data for 2002/08/16: 404\n",
      "Failed to download data for 2003/01/23: 404\n",
      "Failed to download data for 2003/01/23: 404\n",
      "Failed to download data for 2003/01/23: 404\n",
      "Failed to download data for 2003/11/18: 404\n",
      "Failed to download data for 2003/11/18: 404\n",
      "Failed to download data for 2003/11/18: 404\n",
      "Failed to download data for 2004/01/17: 404\n",
      "Failed to download data for 2004/06/02: 404\n",
      "Failed to download data for 2004/09/12: 404\n",
      "Failed to download data for 2004/10/30: 404\n",
      "Failed to download data for 2004/11/10: 404\n",
      "Failed to download data for 2005/07/27: 404\n",
      "Failed to download data for 2006/12/13: 404\n",
      "Failed to download data for 2006/12/14: 404\n",
      "Failed to download data for 2011/08/02: 404\n",
      "Failed to download data for 2011/09/04: 404\n",
      "Failed to download data for 2011/09/06: 404\n",
      "Failed to download data for 2011/09/20: 404\n",
      "Failed to download data for 2011/10/01: 404\n",
      "Failed to download data for 2011/10/01: 404\n",
      "Failed to download data for 2011/11/15: 404\n",
      "Failed to download data for 2012/03/07: 404\n",
      "Failed to download data for 2012/03/07: 404\n",
      "Failed to download data for 2012/06/03: 404\n",
      "Failed to download data for 2012/07/31: 404\n",
      "Downloaded data for 2013/08/15\n",
      "Downloaded data for 2013/10/22\n",
      "Downloaded data for 2013/10/25\n",
      "Downloaded data for 2013/10/28\n",
      "Downloaded data for 2013/11/05\n",
      "Downloaded data for 2014/03/06\n",
      "Data for 2014/03/06 already downloaded.\n",
      "Downloaded data for 2014/05/09\n",
      "Downloaded data for 2014/06/01\n",
      "Data for 2014/06/01 already downloaded.\n",
      "Downloaded data for 2014/06/12\n",
      "Data for 2014/06/12 already downloaded.\n",
      "Downloaded data for 2014/08/05\n",
      "Data for 2014/08/05 already downloaded.\n",
      "Downloaded data for 2014/09/18\n",
      "Data for 2014/09/18 already downloaded.\n"
     ]
    }
   ],
   "source": [
    "\n",
    "base_url = \"https://www.ngdc.noaa.gov/stp/space-weather/solar-data/solar-features/solar-radio/rstn-spectral/learmonth/\"\n",
    "\n",
    "\n",
    "urls = [base_url + date[:7].replace('/', '/') + \"/\" for date in dates_full]\n",
    "\n",
    "if not os.path.exists('Learmonth_data'):\n",
    "    os.makedirs('Learmonth_data')\n",
    "\n",
    "\n",
    "def download_data(date_short, url, date_full):\n",
    "    filename = f\"lm{date_short.replace('/', '')}.SRS.gz\"  #change to srs and SRS since the files are formatted accordingly\n",
    "    full_url = url + filename\n",
    "    if os.path.exists(os.path.join('data', filename)):\n",
    "        print(f\"Data for {date_full} already downloaded.\")\n",
    "        return\n",
    "\n",
    "    response = requests.get(full_url)\n",
    "    if response.status_code == 200:\n",
    "        with open(os.path.join('data', filename), 'wb') as file:\n",
    "            file.write(response.content)\n",
    "        print(f\"Downloaded data for {date_full}\")\n",
    "    else:\n",
    "        print(f\"Failed to download data for {date_full}: {response.status_code}\")\n",
    "\n",
    "for full_date, short_date, url in zip(dates_full, dates_short, urls):\n",
    "    download_data(short_date, url, full_date)"
   ]
  },
  {
   "cell_type": "code",
   "execution_count": null,
   "id": "c33144d2-497b-45a0-8233-20aef38b2035",
   "metadata": {},
   "outputs": [],
   "source": []
  }
 ],
 "metadata": {
  "kernelspec": {
   "display_name": "Python 3 (ipykernel)",
   "language": "python",
   "name": "python3"
  },
  "language_info": {
   "codemirror_mode": {
    "name": "ipython",
    "version": 3
   },
   "file_extension": ".py",
   "mimetype": "text/x-python",
   "name": "python",
   "nbconvert_exporter": "python",
   "pygments_lexer": "ipython3",
   "version": "3.12.3"
  },
  "widgets": {
   "application/vnd.jupyter.widget-state+json": {
    "state": {},
    "version_major": 2,
    "version_minor": 0
   }
  }
 },
 "nbformat": 4,
 "nbformat_minor": 5
}
